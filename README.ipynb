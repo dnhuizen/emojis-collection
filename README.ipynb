{
 "cells": [
  {
   "cell_type": "markdown",
   "metadata": {},
   "source": [
    "# Emojis-Collection\n",
    "---\n",
    "\n",
    "Emojis-Collection provides a set of Emojis ([Emoji 12.0](http://blog.unicode.org/2019/02/unicode-emoji-12-final-for-2019.html)) organised by [CLDR Emoji categories](https://www.unicode.org/Public/emoji/12.0/emoji-test.txt). The CLDR categorization provides logical groupings of Emojis which are recommended for keyboard layouts e.g., a subgroup of Face-smiling Emojis which belong to Smileys & Emotion group. Emojis-Collection allows for Emojis of CLDR subgroups or groups to be be easily accessed and navigated via a class attribute namespace structure. Emojis-Collection also allows for user-defined groups to be created, e.g., Emojis can be grouped by public sentiment categories.\n"
   ]
  },
  {
   "cell_type": "markdown",
   "metadata": {},
   "source": [
    "## Getting Started\n",
    "\n",
    "These instructions will get you a copy of the project up and running on your local machine for development and testing purposes.\n"
   ]
  },
  {
   "cell_type": "markdown",
   "metadata": {},
   "source": [
    "### Prerequisites\n",
    "Minimum: Python 3.6\n",
    "\n",
    "To render Emojis as a graphics in an Ipython console, insure the default encoding of your python environment set to UTF-8. Default encoding can be set using the terminal command:\n",
    "    \n",
    "    export PYTHONIOENCODING=UTF-8\n",
    "WARNING: Failing to set the default encoding to UTF-8 may result in errors when using this package in an Ipython console."
   ]
  },
  {
   "cell_type": "markdown",
   "metadata": {},
   "source": [
    "### Installing\n",
    "\n",
    "In the top level directory of this repository run the setup script:\n",
    "\n",
    "    python setup.py install"
   ]
  },
  {
   "cell_type": "markdown",
   "metadata": {},
   "source": [
    "### Tutorial\n",
    "Import the full Emojis collection using:"
   ]
  },
  {
   "cell_type": "code",
   "execution_count": 4,
   "metadata": {},
   "outputs": [],
   "source": [
    "from emojis_collection import EMOJIS"
   ]
  },
  {
   "cell_type": "markdown",
   "metadata": {},
   "source": [
    "Groups are defined as class attributes of `EMOJIS` and subgroups are defined as class attributes of groups. Groups and subgroup names are all notated using uppercase. For example, accessing all the Emojis in the  *Face Hand* subgroup of the *Smileys & Emotion* group is done as follow:"
   ]
  },
  {
   "cell_type": "code",
   "execution_count": 18,
   "metadata": {},
   "outputs": [
    {
     "data": {
      "text/plain": [
       "EmojiGroup(FACE_WITH_HAND_OVER_MOUTH=Emoji(code='1F92D', char='\\U0001f92d', qualification='fully-qualified', name='face with hand over mouth'), HUGGING_FACE=Emoji(code='1F917', char='🤗', qualification='fully-qualified', name='hugging face'), SHUSHING_FACE=Emoji(code='1F92B', char='\\U0001f92b', qualification='fully-qualified', name='shushing face'), THINKING_FACE=Emoji(code='1F914', char='🤔', qualification='fully-qualified', name='thinking face'), _k={'HUGGING_FACE': Emoji(code='1F917', char='🤗', qualification='fully-qualified', name='hugging face'), 'FACE_WITH_HAND_OVER_MOUTH': Emoji(code='1F92D', char='\\U0001f92d', qualification='fully-qualified', name='face with hand over mouth'), 'SHUSHING_FACE': Emoji(code='1F92B', char='\\U0001f92b', qualification='fully-qualified', name='shushing face'), 'THINKING_FACE': Emoji(code='1F914', char='🤔', qualification='fully-qualified', name='thinking face')})"
      ]
     },
     "execution_count": 18,
     "metadata": {},
     "output_type": "execute_result"
    }
   ],
   "source": [
    "EMOJIS.SMILEYS_AND_EMOTION.FACE_HAND"
   ]
  },
  {
   "cell_type": "markdown",
   "metadata": {},
   "source": [
    "This returns an `EmojiGroup` of NamedTuples where each NamedTuple provides all relevant attributes to describe the Emojis. Emoji attributes include the unicode code point (*code*), UTF-8 encoded character (*char*), qualification status (*qualification*) and CLDR short name (*name*). Alternatively, Emojis can be returned as nested ordered dictionary by calling the `to_dict()` method of any `EmojiGroup` class instance:\n"
   ]
  },
  {
   "cell_type": "code",
   "execution_count": 11,
   "metadata": {},
   "outputs": [
    {
     "data": {
      "text/plain": [
       "OrderedDict([('HUGGING_FACE',\n",
       "              OrderedDict([('code', '1F917'),\n",
       "                           ('char', '🤗'),\n",
       "                           ('qualification', 'fully-qualified'),\n",
       "                           ('name', 'hugging face')])),\n",
       "             ('FACE_WITH_HAND_OVER_MOUTH',\n",
       "              OrderedDict([('code', '1F92D'),\n",
       "                           ('char', '\\U0001f92d'),\n",
       "                           ('qualification', 'fully-qualified'),\n",
       "                           ('name', 'face with hand over mouth')])),\n",
       "             ('SHUSHING_FACE',\n",
       "              OrderedDict([('code', '1F92B'),\n",
       "                           ('char', '\\U0001f92b'),\n",
       "                           ('qualification', 'fully-qualified'),\n",
       "                           ('name', 'shushing face')])),\n",
       "             ('THINKING_FACE',\n",
       "              OrderedDict([('code', '1F914'),\n",
       "                           ('char', '🤔'),\n",
       "                           ('qualification', 'fully-qualified'),\n",
       "                           ('name', 'thinking face')]))])"
      ]
     },
     "execution_count": 11,
     "metadata": {},
     "output_type": "execute_result"
    }
   ],
   "source": [
    "EMOJIS.SMILEYS_AND_EMOTION.FACE_HAND.to_dict()"
   ]
  },
  {
   "cell_type": "markdown",
   "metadata": {},
   "source": [
    "This allows the Emojis to be hierarchically represented as groups/subgroups. Alternatively, a list containing the Emoji NamedTuples can be returned by calling the `to_list()` method of any `EmojiGroup` class instance:"
   ]
  },
  {
   "cell_type": "code",
   "execution_count": 5,
   "metadata": {},
   "outputs": [
    {
     "data": {
      "text/plain": [
       "[Emoji(code='1F917', char='🤗', qualification='fully-qualified', name='hugging face'),\n",
       " Emoji(code='1F92D', char='\\U0001f92d', qualification='fully-qualified', name='face with hand over mouth'),\n",
       " Emoji(code='1F92B', char='\\U0001f92b', qualification='fully-qualified', name='shushing face'),\n",
       " Emoji(code='1F914', char='🤔', qualification='fully-qualified', name='thinking face')]"
      ]
     },
     "execution_count": 5,
     "metadata": {},
     "output_type": "execute_result"
    }
   ],
   "source": [
    "EMOJIS.SMILEYS_AND_EMOTION.FACE_HAND.to_list()"
   ]
  },
  {
   "cell_type": "markdown",
   "metadata": {},
   "source": [
    "A list of specific elements of the Namedtuple can be return directly by calling the `EmojiGroup` attribute properties `code`, `char`, `qualification` or `name`. For example, getting a list of Emoji characters for an `EmojiGroup` can be achieved using:"
   ]
  },
  {
   "cell_type": "code",
   "execution_count": 20,
   "metadata": {},
   "outputs": [
    {
     "data": {
      "text/plain": [
       "['🤗', '\\U0001f92d', '\\U0001f92b', '🤔']"
      ]
     },
     "execution_count": 20,
     "metadata": {},
     "output_type": "execute_result"
    }
   ],
   "source": [
    "EMOJIS.SMILEYS_AND_EMOTION.FACE_HAND.char"
   ]
  },
  {
   "cell_type": "markdown",
   "metadata": {},
   "source": [
    "Lastly, the `EmojiGroup` can be returned as an iterable by calling the `to.iter()` method:"
   ]
  },
  {
   "cell_type": "code",
   "execution_count": 12,
   "metadata": {},
   "outputs": [
    {
     "name": "stdout",
     "output_type": "stream",
     "text": [
      "hugging face                  🤗\n",
      "face with hand over mouth     🤭\n",
      "shushing face                 🤫\n",
      "thinking face                 🤔\n"
     ]
    }
   ],
   "source": [
    "for e in EMOJIS.SMILEYS_AND_EMOTION.FACE_HAND.to_iter():\n",
    "    print(e.name.ljust(30) + e.char)"
   ]
  },
  {
   "cell_type": "markdown",
   "metadata": {},
   "source": [
    "Note: All uppercase class instance attribute names of `EmojiGroup` are also of type `EmojiGroup` and thus allow for methods `to_dict()`, `to_list()` `to_iter()`, and properties `code`, `char`, `qualification` and `name`."
   ]
  },
  {
   "cell_type": "markdown",
   "metadata": {},
   "source": [
    "## Limitations\n",
    "The Emojis are parsed by [data files](http://www.unicode.org/Public/emoji/12.0/) provided by The Unicode Consortium, meaning the accuracy of the Emojis and CLDR categorization are dependent on these files. Only a few Emojis have been hand validated."
   ]
  },
  {
   "cell_type": "markdown",
   "metadata": {},
   "source": [
    "## Authors\n",
    "\n",
    "* **Daniel Nieuwenhuizen** - *Initial work* - [dnhuizen](https://github.com/dnhuizen/)\n",
    "\n",
    "## License\n",
    "\n",
    "This project is licensed under the GNU GENERAL PUBLIC LICENSE.\n",
    "\n",
    "## Acknowledgments\n",
    "\n",
    "* The Unicode Consortium for providing the data files\n"
   ]
  }
 ],
 "metadata": {
  "kernelspec": {
   "display_name": "Python 3 (dart_p36)",
   "language": "python",
   "name": "dart_py36"
  },
  "language_info": {
   "codemirror_mode": {
    "name": "ipython",
    "version": 3
   },
   "file_extension": ".py",
   "mimetype": "text/x-python",
   "name": "python",
   "nbconvert_exporter": "python",
   "pygments_lexer": "ipython3",
   "version": "3.6.7"
  }
 },
 "nbformat": 4,
 "nbformat_minor": 2
}
